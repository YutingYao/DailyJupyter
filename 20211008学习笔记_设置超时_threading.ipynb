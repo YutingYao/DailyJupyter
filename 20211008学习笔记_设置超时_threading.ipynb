{
  "nbformat": 4,
  "nbformat_minor": 0,
  "metadata": {
    "colab": {
      "name": "20211008学习笔记-设置超时-threading.ipynb",
      "provenance": [],
      "collapsed_sections": [
        "4pcJHWzqJg7e",
        "neUZrKhqJ4g2",
        "MYfntVanPT-5",
        "LkV0JpDORaae",
        "tqdLxStiQB0Z",
        "tdExUD09Qccq"
      ],
      "toc_visible": true,
      "authorship_tag": "ABX9TyOek0Rjfa1gXB6lrKRLFwDN",
      "include_colab_link": true
    },
    "kernelspec": {
      "name": "python3",
      "display_name": "Python 3"
    },
    "language_info": {
      "name": "python"
    }
  },
  "cells": [
    {
      "cell_type": "markdown",
      "metadata": {
        "id": "view-in-github",
        "colab_type": "text"
      },
      "source": [
        "<a href=\"https://colab.research.google.com/github/YutingYao/DailyJupyter/blob/main/20211008%E5%AD%A6%E4%B9%A0%E7%AC%94%E8%AE%B0_%E8%AE%BE%E7%BD%AE%E8%B6%85%E6%97%B6_threading.ipynb\" target=\"_parent\"><img src=\"https://colab.research.google.com/assets/colab-badge.svg\" alt=\"Open In Colab\"/></a>"
      ]
    },
    {
      "cell_type": "markdown",
      "metadata": {
        "id": "NObmpGIBG3iv"
      },
      "source": [
        "# 设置超时"
      ]
    },
    {
      "cell_type": "markdown",
      "metadata": {
        "id": "4pcJHWzqJg7e"
      },
      "source": [
        "## 用timeout-decorator包"
      ]
    },
    {
      "cell_type": "code",
      "metadata": {
        "colab": {
          "base_uri": "https://localhost:8080/"
        },
        "id": "O7nDkjNTGfxP",
        "outputId": "1e2be14f-c53d-4cd0-9acd-b4cf447cfa27"
      },
      "source": [
        "!pip install timeout-decorator"
      ],
      "execution_count": 3,
      "outputs": [
        {
          "output_type": "stream",
          "name": "stdout",
          "text": [
            "Collecting timeout-decorator\n",
            "  Downloading timeout-decorator-0.5.0.tar.gz (4.8 kB)\n",
            "Building wheels for collected packages: timeout-decorator\n",
            "  Building wheel for timeout-decorator (setup.py) ... \u001b[?25l\u001b[?25hdone\n",
            "  Created wheel for timeout-decorator: filename=timeout_decorator-0.5.0-py3-none-any.whl size=5028 sha256=8941f56c1b01f4400d07b547d901a7351794309dae4e85830520a403cab7ce70\n",
            "  Stored in directory: /root/.cache/pip/wheels/7d/64/ac/de1dd54f9a6e48b846e9cb5e4176d6f063380e7f83d69807ad\n",
            "Successfully built timeout-decorator\n",
            "Installing collected packages: timeout-decorator\n",
            "Successfully installed timeout-decorator-0.5.0\n"
          ]
        }
      ]
    },
    {
      "cell_type": "code",
      "metadata": {
        "id": "HiX_XQhZGmgD"
      },
      "source": [
        "import timeout_decorator\n",
        "\n",
        "\n",
        "@timeout_decorator.timeout(5)\n",
        "def mytest():\n",
        "    print(\"Start\")\n",
        "    for i in range(1, 10):\n",
        "        time.sleep(1)\n",
        "        print(\"{} seconds have passed\".format(i))\n",
        "\n",
        "\n",
        "def main():\n",
        "    mytest()\n",
        "\n",
        "\n",
        "if __name__ == '__main__':\n",
        "    main()"
      ],
      "execution_count": null,
      "outputs": []
    },
    {
      "cell_type": "code",
      "metadata": {
        "id": "8Sf7-grSHA9R"
      },
      "source": [
        "@timeout_decorator.timeout(5, timeout_exception=StopIteration)\n",
        "def mytest():\n",
        "    print(\"Start\")\n",
        "    for i in range(1, 10):\n",
        "        time.sleep(1)\n",
        "        print(\"{} seconds have passed\".format(i))\n",
        "\n",
        "\n",
        "def main():\n",
        "    mytest()\n",
        "\n",
        "\n",
        "if __name__ == '__main__':\n",
        "    main()"
      ],
      "execution_count": null,
      "outputs": []
    },
    {
      "cell_type": "markdown",
      "metadata": {
        "id": "neUZrKhqJ4g2"
      },
      "source": [
        "## 用time.time()统计过去了的时间"
      ]
    },
    {
      "cell_type": "code",
      "metadata": {
        "colab": {
          "base_uri": "https://localhost:8080/"
        },
        "id": "Z56MHnnbHtAf",
        "outputId": "f3212f45-247d-4ac2-b85b-9d71707bbd66"
      },
      "source": [
        "# coding=utf-8\n",
        "\n",
        "import datetime\n",
        "\n",
        "import time\n",
        "\n",
        "def run(n):\n",
        "\n",
        "  s = 0\n",
        "\n",
        "  for i in range(0, n):\n",
        "\n",
        "    for j in range(0, n):\n",
        "\n",
        "      s += 1\n",
        "\n",
        "  return s\n",
        "\n",
        "def run_within_time(n, time_in_millisecond):\n",
        "\n",
        "  s = 0\n",
        "\n",
        "  start_time = time.time() * 1000\n",
        "\n",
        "  for i in range(0, n):\n",
        "\n",
        "    for j in range(0, n):\n",
        "\n",
        "      s += 1\n",
        "\n",
        "      elapsed = time.time() * 1000 - start_time\n",
        "\n",
        "  # 做完一部分任务后,判断是否超时\n",
        "\n",
        "      if elapsed >= time_in_millisecond:\n",
        "\n",
        "        s = -1\n",
        "\n",
        "        break\n",
        "\n",
        "  return s\n",
        "\n",
        "num = 10000\n",
        "\n",
        "print(time.time() * 1000)\n",
        "\n",
        "# print(datetime.datetime.now())\n",
        "\n",
        "print(\"run :\",run(num))\n",
        "\n",
        "# print(\"run :\")\n",
        "\n",
        "# print(datetime.datetime.now())\n",
        "\n",
        "print(\"run_within_time:\",run_within_time(num, 200))\n",
        "\n",
        "# print(\"run_within_time:\")\n",
        "\n",
        "# print(datetime.datetime.now())"
      ],
      "execution_count": 17,
      "outputs": [
        {
          "output_type": "stream",
          "name": "stdout",
          "text": [
            "1633650408689.105\n",
            "run : 100000000\n",
            "run_within_time: -1\n"
          ]
        }
      ]
    },
    {
      "cell_type": "markdown",
      "metadata": {
        "id": "MYfntVanPT-5"
      },
      "source": [
        "# threading"
      ]
    },
    {
      "cell_type": "markdown",
      "metadata": {
        "id": "LkV0JpDORaae"
      },
      "source": [
        "## threading.Thread(target=test)"
      ]
    },
    {
      "cell_type": "code",
      "metadata": {
        "colab": {
          "base_uri": "https://localhost:8080/"
        },
        "id": "U5muTkcdPaXG",
        "outputId": "62228ace-3b01-4a0e-a771-ae8de0e6a0f0"
      },
      "source": [
        "import threading\n",
        "import time\n",
        "\n",
        "def test():\n",
        "\n",
        "    for i in range(5):\n",
        "        print('test ',i)\n",
        "        time.sleep(1)\n",
        "\n",
        "\n",
        "thread = threading.Thread(target=test)\n",
        "thread.start()\n",
        "\n",
        "for i in range(5):\n",
        "    print('main ', i)\n",
        "    time.sleep(1)\n"
      ],
      "execution_count": 18,
      "outputs": [
        {
          "output_type": "stream",
          "name": "stdout",
          "text": [
            "test  0\n",
            "main  0\n",
            "test  1\n",
            "main  1\n",
            "main  2\n",
            "test  2\n",
            "test  main  3\n",
            "3\n",
            "main test  4\n",
            " 4\n"
          ]
        }
      ]
    },
    {
      "cell_type": "markdown",
      "metadata": {
        "id": "tqdLxStiQB0Z"
      },
      "source": [
        "## Thread 的名字\n",
        "每一个 Thread 都有一个 name 的属性，代表的就是线程的名字，这个可以在构造方法中赋值。\n",
        "\n",
        "如果在构造方法中没有个 name 赋值的话，默认就是 “Thread-N” 的形式，N 是数字。"
      ]
    },
    {
      "cell_type": "code",
      "metadata": {
        "colab": {
          "base_uri": "https://localhost:8080/"
        },
        "id": "jEsCyLrYPzWC",
        "outputId": "b23abc34-3d34-41e7-90de-c25aa076ff92"
      },
      "source": [
        "import threading\n",
        "import time\n",
        "\n",
        "def test():\n",
        "\n",
        "    for i in range(5):\n",
        "        print(threading.current_thread().name+' test ',i)\n",
        "        time.sleep(1)\n",
        "\n",
        "\n",
        "thread = threading.Thread(target=test)\n",
        "thread.start()\n",
        "\n",
        "for i in range(5):\n",
        "    print(threading.current_thread().name+' main ', i)\n",
        "    time.sleep(1)\n"
      ],
      "execution_count": 19,
      "outputs": [
        {
          "output_type": "stream",
          "name": "stdout",
          "text": [
            "Thread-12 test  0\n",
            "MainThread main  0\n",
            "Thread-12 test  1\n",
            "MainThread main  1\n",
            "Thread-12 test  2\n",
            "MainThread main  2\n",
            "Thread-12 test  3\n",
            "MainThread main  3\n",
            "Thread-12 test  4\n",
            "MainThread main  4\n"
          ]
        }
      ]
    },
    {
      "cell_type": "markdown",
      "metadata": {
        "id": "tdExUD09Qccq"
      },
      "source": [
        "## thread.isAlive()\n",
        "Thread 的生命周期"
      ]
    },
    {
      "cell_type": "code",
      "metadata": {
        "colab": {
          "base_uri": "https://localhost:8080/"
        },
        "id": "5wAbBnBsQHZH",
        "outputId": "ea1c80f0-9a44-4e0d-dd96-99afcbcc7cfb"
      },
      "source": [
        "import threading\n",
        "import time\n",
        "\n",
        "def test():\n",
        "\n",
        "    for i in range(5):\n",
        "        print(threading.current_thread().name+' test ',i)\n",
        "        time.sleep(0.5)\n",
        "\n",
        "\n",
        "thread = threading.Thread(target=test,name='TestThread')\n",
        "# thread = threading.Thread(target=test)\n",
        "thread.start()\n",
        "\n",
        "for i in range(5):\n",
        "    print(threading.current_thread().name+' main ', i)\n",
        "    print(thread.name+' is alive ', thread.isAlive())\n",
        "    time.sleep(1)\n"
      ],
      "execution_count": 21,
      "outputs": [
        {
          "output_type": "stream",
          "name": "stdout",
          "text": [
            "TestThread test MainThread main  0\n",
            "TestThread is alive  True\n",
            " 0\n",
            "TestThread test  1\n",
            "MainThread main  1\n",
            "TestThread is alive  True\n",
            "TestThread test  2\n",
            "TestThread test  3\n",
            "MainThread main  2\n",
            "TestThread is alive  True\n",
            "TestThread test  4\n",
            "MainThread main  3\n",
            "TestThread is alive  False\n",
            "MainThread main  4\n",
            "TestThread is alive  False\n"
          ]
        }
      ]
    },
    {
      "cell_type": "markdown",
      "metadata": {
        "id": "qqB_nmyeRK7a"
      },
      "source": [
        "## thread.join()"
      ]
    },
    {
      "cell_type": "markdown",
      "metadata": {
        "id": "GK_AmNGIRJVX"
      },
      "source": [
        "上面代码两个线程是同时运行的，但如果让一个先运行，一个后运行，怎么做呢？"
      ]
    },
    {
      "cell_type": "code",
      "metadata": {
        "colab": {
          "base_uri": "https://localhost:8080/"
        },
        "id": "6pwaCje2Qqcj",
        "outputId": "c76eb967-71c3-46dc-fae7-361f57e616d0"
      },
      "source": [
        "import threading\n",
        "import time\n",
        "\n",
        "def test():\n",
        "\n",
        "    for i in range(5):\n",
        "        print(threading.current_thread().name+' test ',i)\n",
        "        time.sleep(0.5)\n",
        "\n",
        "\n",
        "thread = threading.Thread(target=test,name='TestThread')\n",
        "thread.start()\n",
        "thread.join()\n",
        "\n",
        "for i in range(5):\n",
        "    print(threading.current_thread().name+' main ', i)\n",
        "    print(thread.name+' is alive ', thread.isAlive())\n",
        "    time.sleep(1)\n"
      ],
      "execution_count": 22,
      "outputs": [
        {
          "output_type": "stream",
          "name": "stdout",
          "text": [
            "TestThread test  0\n",
            "TestThread test  1\n",
            "TestThread test  2\n",
            "TestThread test  3\n",
            "TestThread test  4\n",
            "MainThread main  0\n",
            "TestThread is alive  False\n",
            "MainThread main  1\n",
            "TestThread is alive  False\n",
            "MainThread main  2\n",
            "TestThread is alive  False\n",
            "MainThread main  3\n",
            "TestThread is alive  False\n",
            "MainThread main  4\n",
            "TestThread is alive  False\n"
          ]
        }
      ]
    },
    {
      "cell_type": "markdown",
      "metadata": {
        "id": "GOehIlkTRFjq"
      },
      "source": [
        "join() 会一直等待对应线程的结束，但可以通过参数赋值，等待规定的时间就好了。"
      ]
    },
    {
      "cell_type": "code",
      "metadata": {
        "colab": {
          "base_uri": "https://localhost:8080/"
        },
        "id": "UwPKKSOBQ8zG",
        "outputId": "922e3dea-5c9a-4c0b-fc69-f47fe8d0d00d"
      },
      "source": [
        "import threading\n",
        "import time\n",
        "\n",
        "def test():\n",
        "\n",
        "    for i in range(5):\n",
        "        print(threading.current_thread().name+' test ',i)\n",
        "        time.sleep(0.5)\n",
        "\n",
        "\n",
        "thread = threading.Thread(target=test,name='TestThread')\n",
        "thread.start()\n",
        "thread.join(1.0)\n",
        "\n",
        "for i in range(5):\n",
        "    print(threading.current_thread().name+' main ', i)\n",
        "    print(thread.name+' is alive ', thread.isAlive())\n",
        "    time.sleep(1)\n"
      ],
      "execution_count": 23,
      "outputs": [
        {
          "output_type": "stream",
          "name": "stdout",
          "text": [
            "TestThread test  0\n",
            "TestThread test  1\n",
            "MainThread main  0\n",
            "TestThread is alive  True\n",
            "TestThread test  2\n",
            "TestThread test  3\n",
            "MainThread main  1\n",
            "TestThread is alive  True\n",
            "TestThread test  4\n",
            "MainThread main  2\n",
            "TestThread is alive  False\n",
            "MainThread main  3\n",
            "TestThread is alive  False\n",
            "MainThread main  4\n",
            "TestThread is alive  False\n"
          ]
        }
      ]
    }
  ]
}